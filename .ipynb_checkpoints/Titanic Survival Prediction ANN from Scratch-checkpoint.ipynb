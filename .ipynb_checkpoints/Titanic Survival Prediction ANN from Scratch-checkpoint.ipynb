{
 "cells": [
  {
   "cell_type": "markdown",
   "id": "8260aae7-7605-4b03-8563-d7bd5c34e092",
   "metadata": {},
   "source": [
    "# <b/><font color='green'><center>Titanic Survival Prediction Using ANN from Scratch</center></font>"
   ]
  },
  {
   "cell_type": "markdown",
   "id": "d5d52c2e-f5bd-436b-b8cf-58949964a99a",
   "metadata": {},
   "source": [
    "## <b/> Importing Libraries"
   ]
  },
  {
   "cell_type": "code",
   "execution_count": 1,
   "id": "5d10d9dc-fb8f-4cbc-bcc6-3da3ea1f8629",
   "metadata": {},
   "outputs": [],
   "source": [
    "import pandas as pd\n",
    "import numpy as np\n",
    "\n",
    "import seaborn as sns\n",
    "import matplotlib.pyplot as plt\n",
    "%matplotlib inline\n",
    "\n",
    "sns.set(rc={'figure.figsize': (12,10)})\n",
    "\n",
    "import warnings\n",
    "warnings.filterwarnings('ignore')"
   ]
  },
  {
   "cell_type": "code",
   "execution_count": 2,
   "id": "f6863ce8-15aa-4b2f-a5ce-ae199b5ea584",
   "metadata": {},
   "outputs": [],
   "source": [
    "import random\n",
    "random.seed(101)"
   ]
  },
  {
   "cell_type": "markdown",
   "id": "b36bffd0-5fd7-4f4d-8a5b-a2d1255b1e05",
   "metadata": {},
   "source": [
    "## <b/> Loading Dataset"
   ]
  },
  {
   "cell_type": "code",
   "execution_count": 3,
   "id": "12e5fde7-6aa6-4d49-be1b-55ef57ef846e",
   "metadata": {},
   "outputs": [
    {
     "data": {
      "text/html": [
       "<div>\n",
       "<style scoped>\n",
       "    .dataframe tbody tr th:only-of-type {\n",
       "        vertical-align: middle;\n",
       "    }\n",
       "\n",
       "    .dataframe tbody tr th {\n",
       "        vertical-align: top;\n",
       "    }\n",
       "\n",
       "    .dataframe thead th {\n",
       "        text-align: right;\n",
       "    }\n",
       "</style>\n",
       "<table border=\"1\" class=\"dataframe\">\n",
       "  <thead>\n",
       "    <tr style=\"text-align: right;\">\n",
       "      <th></th>\n",
       "      <th>PassengerId</th>\n",
       "      <th>Survived</th>\n",
       "      <th>Pclass</th>\n",
       "      <th>Name</th>\n",
       "      <th>Sex</th>\n",
       "      <th>Age</th>\n",
       "      <th>SibSp</th>\n",
       "      <th>Parch</th>\n",
       "      <th>Ticket</th>\n",
       "      <th>Fare</th>\n",
       "      <th>Cabin</th>\n",
       "      <th>Embarked</th>\n",
       "    </tr>\n",
       "  </thead>\n",
       "  <tbody>\n",
       "    <tr>\n",
       "      <th>0</th>\n",
       "      <td>1</td>\n",
       "      <td>0</td>\n",
       "      <td>3</td>\n",
       "      <td>Braund, Mr. Owen Harris</td>\n",
       "      <td>male</td>\n",
       "      <td>22.0</td>\n",
       "      <td>1</td>\n",
       "      <td>0</td>\n",
       "      <td>A/5 21171</td>\n",
       "      <td>7.2500</td>\n",
       "      <td>NaN</td>\n",
       "      <td>S</td>\n",
       "    </tr>\n",
       "    <tr>\n",
       "      <th>1</th>\n",
       "      <td>2</td>\n",
       "      <td>1</td>\n",
       "      <td>1</td>\n",
       "      <td>Cumings, Mrs. John Bradley (Florence Briggs Th...</td>\n",
       "      <td>female</td>\n",
       "      <td>38.0</td>\n",
       "      <td>1</td>\n",
       "      <td>0</td>\n",
       "      <td>PC 17599</td>\n",
       "      <td>71.2833</td>\n",
       "      <td>C85</td>\n",
       "      <td>C</td>\n",
       "    </tr>\n",
       "    <tr>\n",
       "      <th>2</th>\n",
       "      <td>3</td>\n",
       "      <td>1</td>\n",
       "      <td>3</td>\n",
       "      <td>Heikkinen, Miss. Laina</td>\n",
       "      <td>female</td>\n",
       "      <td>26.0</td>\n",
       "      <td>0</td>\n",
       "      <td>0</td>\n",
       "      <td>STON/O2. 3101282</td>\n",
       "      <td>7.9250</td>\n",
       "      <td>NaN</td>\n",
       "      <td>S</td>\n",
       "    </tr>\n",
       "    <tr>\n",
       "      <th>3</th>\n",
       "      <td>4</td>\n",
       "      <td>1</td>\n",
       "      <td>1</td>\n",
       "      <td>Futrelle, Mrs. Jacques Heath (Lily May Peel)</td>\n",
       "      <td>female</td>\n",
       "      <td>35.0</td>\n",
       "      <td>1</td>\n",
       "      <td>0</td>\n",
       "      <td>113803</td>\n",
       "      <td>53.1000</td>\n",
       "      <td>C123</td>\n",
       "      <td>S</td>\n",
       "    </tr>\n",
       "    <tr>\n",
       "      <th>4</th>\n",
       "      <td>5</td>\n",
       "      <td>0</td>\n",
       "      <td>3</td>\n",
       "      <td>Allen, Mr. William Henry</td>\n",
       "      <td>male</td>\n",
       "      <td>35.0</td>\n",
       "      <td>0</td>\n",
       "      <td>0</td>\n",
       "      <td>373450</td>\n",
       "      <td>8.0500</td>\n",
       "      <td>NaN</td>\n",
       "      <td>S</td>\n",
       "    </tr>\n",
       "  </tbody>\n",
       "</table>\n",
       "</div>"
      ],
      "text/plain": [
       "   PassengerId  Survived  Pclass  \\\n",
       "0            1         0       3   \n",
       "1            2         1       1   \n",
       "2            3         1       3   \n",
       "3            4         1       1   \n",
       "4            5         0       3   \n",
       "\n",
       "                                                Name     Sex   Age  SibSp  \\\n",
       "0                            Braund, Mr. Owen Harris    male  22.0      1   \n",
       "1  Cumings, Mrs. John Bradley (Florence Briggs Th...  female  38.0      1   \n",
       "2                             Heikkinen, Miss. Laina  female  26.0      0   \n",
       "3       Futrelle, Mrs. Jacques Heath (Lily May Peel)  female  35.0      1   \n",
       "4                           Allen, Mr. William Henry    male  35.0      0   \n",
       "\n",
       "   Parch            Ticket     Fare Cabin Embarked  \n",
       "0      0         A/5 21171   7.2500   NaN        S  \n",
       "1      0          PC 17599  71.2833   C85        C  \n",
       "2      0  STON/O2. 3101282   7.9250   NaN        S  \n",
       "3      0            113803  53.1000  C123        S  \n",
       "4      0            373450   8.0500   NaN        S  "
      ]
     },
     "execution_count": 3,
     "metadata": {},
     "output_type": "execute_result"
    }
   ],
   "source": [
    "data = pd.read_csv('Titanic-Dataset.csv')\n",
    "data.head()"
   ]
  },
  {
   "cell_type": "code",
   "execution_count": 4,
   "id": "c3a2ecec-8a35-4650-89a3-aa138c27377d",
   "metadata": {},
   "outputs": [
    {
     "name": "stdout",
     "output_type": "stream",
     "text": [
      "<class 'pandas.core.frame.DataFrame'>\n",
      "RangeIndex: 891 entries, 0 to 890\n",
      "Data columns (total 12 columns):\n",
      " #   Column       Non-Null Count  Dtype  \n",
      "---  ------       --------------  -----  \n",
      " 0   PassengerId  891 non-null    int64  \n",
      " 1   Survived     891 non-null    int64  \n",
      " 2   Pclass       891 non-null    int64  \n",
      " 3   Name         891 non-null    object \n",
      " 4   Sex          891 non-null    object \n",
      " 5   Age          714 non-null    float64\n",
      " 6   SibSp        891 non-null    int64  \n",
      " 7   Parch        891 non-null    int64  \n",
      " 8   Ticket       891 non-null    object \n",
      " 9   Fare         891 non-null    float64\n",
      " 10  Cabin        204 non-null    object \n",
      " 11  Embarked     889 non-null    object \n",
      "dtypes: float64(2), int64(5), object(5)\n",
      "memory usage: 83.7+ KB\n"
     ]
    }
   ],
   "source": [
    "data.info()"
   ]
  },
  {
   "cell_type": "code",
   "execution_count": 5,
   "id": "9ce13cb0-5376-4a6e-b883-61d1544d7fd1",
   "metadata": {},
   "outputs": [],
   "source": [
    "dict_live = {\n",
    "    0: 'Died',\n",
    "    1: 'Survived'\n",
    "}\n",
    "\n",
    "dict_sex = {\n",
    "    'male': 0,\n",
    "    'female': 1\n",
    "}\n",
    "\n",
    "data['Bsex'] = data['Sex'].apply(lambda x: dict_sex[x])\n",
    "\n",
    "# features\n",
    "features = data[['Pclass', 'Bsex']].to_numpy()\n",
    "labels = data['Survived'].to_numpy()"
   ]
  },
  {
   "cell_type": "markdown",
   "id": "f1d1fb23-6108-49d2-8fcd-ccdaaded9ece",
   "metadata": {},
   "source": [
    "## <b/> Splitting the Data"
   ]
  },
  {
   "cell_type": "code",
   "execution_count": 6,
   "id": "3df6c633-fb5c-4006-bae0-289da2e09c44",
   "metadata": {},
   "outputs": [],
   "source": [
    "from sklearn.model_selection import train_test_split\n",
    "\n",
    "X_train, X_test, Y_train, Y_test = train_test_split(features, labels, test_size=0.30, random_state=0)"
   ]
  },
  {
   "cell_type": "markdown",
   "id": "4941a5a8-e30e-49c8-bf7e-24dc8b335abd",
   "metadata": {},
   "source": [
    "## <b/> Multi Layer Perceptron"
   ]
  },
  {
   "cell_type": "markdown",
   "id": "c49f609a-62e2-475f-a7d1-e414263f20e6",
   "metadata": {},
   "source": [
    "## <b/> Activation function and Derivatives"
   ]
  },
  {
   "cell_type": "code",
   "execution_count": 7,
   "id": "cc404179-6d49-42bf-a060-9e19b503f241",
   "metadata": {},
   "outputs": [],
   "source": [
    "# Sigmoid\n",
    "def Sigmoid(x, derivative=False):\n",
    "    if derivative == True:\n",
    "        f = 1/(1 + np.exp(-x)) * (1 - 1/(1 + np.exp(-x)))\n",
    "    else:\n",
    "        f = 1/(1 + np.exp(-x))\n",
    "\n",
    "    return f\n",
    "\n",
    "# ReLU\n",
    "def ReLU(x, derivative=False):\n",
    "    if derivative == True:\n",
    "        f = np.heaviside(x, 1)\n",
    "    else:\n",
    "        f = np.maximum(x, 0)\n",
    "\n",
    "    return f"
   ]
  },
  {
   "cell_type": "markdown",
   "id": "c0d2744a-d8e0-44d5-bf33-e353a8c3e5ac",
   "metadata": {},
   "source": [
    "## <b/> Training Model"
   ]
  },
  {
   "cell_type": "code",
   "execution_count": 38,
   "id": "2e457cd5-4987-4a62-b15c-9835ad5ea2ee",
   "metadata": {},
   "outputs": [],
   "source": [
    "def train_ANN(X_train, Y_train, h1_units=4, h2_units=4, learning_rate=0.0015):\n",
    "    random.seed(101)\n",
    "\n",
    "    # hidden layer 1\n",
    "    w1 = 2*np.random.rand(h1_units, X_train.shape[1])\n",
    "    b1 = np.random.rand(h1_units)\n",
    "\n",
    "    # hidden layer 2\n",
    "    w2 = 2*np.random.rand(h2_units, h1_units)\n",
    "    b2 = np.random.rand(h2_units)\n",
    "\n",
    "    # output layer\n",
    "    w_out = 2 * np.random.rand(h2_units)\n",
    "    b_out = np.random.rand(1)\n",
    "\n",
    "    loss = []\n",
    "    vec_y = []\n",
    "\n",
    "    for i in range(0, X_train.shape[0]):\n",
    "        x_data = X_train[i]\n",
    "\n",
    "        # Forward Propagation\n",
    "        h1 = ReLU(np.dot(w1, x_data) + b1)\n",
    "        h2 = ReLU(np.dot(w2, h1) + b2)\n",
    "        y = Sigmoid(np.dot(w_out, h2) + b_out)\n",
    "\n",
    "        # Back Propagation\n",
    "        delta_out = (y - Y_train[i]) * Sigmoid(y, derivative=True)\n",
    "        delta_2 = delta_out * w_out * ReLU(h2, derivative=True)\n",
    "        delta_1 = np.dot(delta_2, w2) * ReLU(h1, derivative=True)\n",
    "\n",
    "        # Gradient Descent\n",
    "        w_out = w_out - learning_rate * delta_out * h2\n",
    "        b_out = b_out - learning_rate * delta_out\n",
    "\n",
    "        # hidden layer 2\n",
    "        w2 = w2 - learning_rate * np.kron(delta_2, h1).reshape(h2_units, h1_units)\n",
    "        b2 = b2 - learning_rate * delta_2\n",
    "\n",
    "        # hidden layer 1\n",
    "        w1 = w1 - learning_rate * np.kron(delta_1, x_data).reshape(h1_units, x_data.shape[0])\n",
    "        b1 = b1 - learning_rate * delta_1\n",
    "\n",
    "        # cost\n",
    "        loss.append((1/2) * (y - Y_train[i])**2)\n",
    "        vec_y.append(y[0])\n",
    "\n",
    "    batch_loss = []\n",
    "    for i in range(0, 10):\n",
    "        loss_avg = 0\n",
    "        for m in range(0, 60):\n",
    "            loss_avg += vec_y[60*i + m]/60\n",
    "        batch_loss.append(loss_avg)\n",
    "\n",
    "    plt.figure(figsize=(10,6))\n",
    "    plt.plot(np.arange(1, len(batch_loss)+1), batch_loss)\n",
    "    plt.title('Average Loss by Epoch', fontsize=20)\n",
    "    plt.xlabel('Epoch', fontsize=16)\n",
    "    plt.ylabel('Loss', fontsize=16)\n",
    "    plt.show()\n",
    "\n",
    "    return w1, b1, w2, b2, w_out, b_out, loss"
   ]
  },
  {
   "cell_type": "code",
   "execution_count": 39,
   "id": "2c227c43-a372-40eb-9bae-57cc5566177f",
   "metadata": {},
   "outputs": [
    {
     "data": {
      "image/png": "[encoded data removed]",
      "text/plain": [
       "<Figure size 1000x600 with 1 Axes>"
      ]
     },
     "metadata": {},
     "output_type": "display_data"
    }
   ],
   "source": [
    "w1, b1, w2, b2, w_out, b_out, loss = train_ANN(X_train, Y_train)"
   ]
  },
  {
   "cell_type": "markdown",
   "id": "493b8736-bca4-4e37-bb63-c6b91d813a1b",
   "metadata": {},
   "source": [
    "## <b/> Testing Model"
   ]
  },
  {
   "cell_type": "code",
   "execution_count": 40,
   "id": "4d6c8358-d029-47e2-aa72-411b0c7eebb9",
   "metadata": {},
   "outputs": [],
   "source": [
    "def ANN_pred(X_test, w1, b1, w2, b2, w_out, b_out):\n",
    "    pred = []\n",
    "    \n",
    "    for i in range(0, X_test.shape[0]):\n",
    "        x = X_test[i]\n",
    "\n",
    "        # Forward Propagation\n",
    "        z1 = ReLU(np.dot(w1, x) + b1)\n",
    "        z2 = ReLU(np.dot(w2, z1) + b2)\n",
    "        y = Sigmoid(np.dot(w_out, z2) + b_out)\n",
    "\n",
    "        pred.append(np.heaviside(y-0.5, 1)[0])\n",
    "\n",
    "    return np.array(pred)"
   ]
  },
  {
   "cell_type": "code",
   "execution_count": 41,
   "id": "2b7d3d54-5ef1-4c93-aaf8-b58302a4c95e",
   "metadata": {},
   "outputs": [],
   "source": [
    "predictions = ANN_pred(X_test, w1, b1, w2, b2, w_out, b_out)"
   ]
  },
  {
   "cell_type": "code",
   "execution_count": 42,
   "id": "77c405a0-bf6c-48a7-9c22-08cf561ed674",
   "metadata": {},
   "outputs": [
    {
     "data": {
      "text/plain": [
       "array([0., 0., 0., 1., 1., 1., 1., 1., 1., 1., 0., 1., 0., 1., 1., 1., 0.,\n",
       "       1., 0., 0., 1., 1., 0., 1., 1., 1., 0., 1., 1., 1., 0., 1., 0., 1.,\n",
       "       0., 1., 0., 1., 1., 1., 1., 0., 0., 0., 1., 0., 0., 1., 1., 1., 1.,\n",
       "       1., 1., 0., 1., 1., 1., 1., 0., 0., 0., 1., 1., 1., 1., 0., 1., 1.,\n",
       "       1., 1., 1., 1., 1., 0., 0., 1., 1., 1., 0., 1., 0., 0., 1., 0., 1.,\n",
       "       1., 1., 1., 1., 1., 1., 0., 1., 1., 1., 0., 1., 0., 1., 1., 0., 1.,\n",
       "       0., 0., 1., 1., 1., 1., 1., 1., 0., 1., 0., 1., 1., 1., 1., 1., 0.,\n",
       "       1., 0., 0., 0., 1., 0., 1., 0., 0., 1., 1., 1., 0., 0., 1., 1., 0.,\n",
       "       0., 1., 1., 1., 1., 1., 0., 1., 1., 1., 1., 1., 1., 0., 1., 1., 1.,\n",
       "       0., 1., 1., 1., 1., 1., 1., 0., 0., 1., 1., 0., 0., 0., 0., 0., 0.,\n",
       "       0., 1., 0., 0., 1., 0., 1., 0., 0., 1., 1., 1., 0., 0., 1., 0., 1.,\n",
       "       1., 0., 1., 1., 1., 1., 1., 0., 1., 0., 1., 1., 0., 0., 1., 1., 1.,\n",
       "       0., 1., 1., 0., 1., 0., 0., 1., 0., 1., 1., 0., 1., 0., 1., 1., 0.,\n",
       "       1., 1., 0., 1., 0., 0., 1., 0., 0., 0., 1., 1., 1., 1., 0., 1., 1.,\n",
       "       1., 0., 0., 1., 0., 1., 1., 0., 1., 0., 0., 1., 0., 0., 1., 1., 1.,\n",
       "       1., 1., 0., 0., 0., 0., 0., 0., 1., 0., 0., 1., 1.])"
      ]
     },
     "execution_count": 42,
     "metadata": {},
     "output_type": "execute_result"
    }
   ],
   "source": [
    "predictions"
   ]
  },
  {
   "cell_type": "markdown",
   "id": "7d87852f-9196-4f2c-91ce-5dbeaa9c9264",
   "metadata": {},
   "source": [
    "## <b/> Model Evaluation"
   ]
  },
  {
   "cell_type": "code",
   "execution_count": 43,
   "id": "b64364b5-492a-40c9-a9ae-9a17da200350",
   "metadata": {},
   "outputs": [],
   "source": [
    "from sklearn.metrics import accuracy_score, confusion_matrix\n",
    "\n",
    "cm = confusion_matrix(Y_test, predictions)\n",
    "\n",
    "df_cm = pd.DataFrame(cm, index = [dict_live[i] for i in range(0,2)],\n",
    "                         columns= [dict_live[i] for i in range(0,2)])"
   ]
  },
  {
   "cell_type": "code",
   "execution_count": 44,
   "id": "9331a8bf-b304-45c5-bb88-cc2ae3456853",
   "metadata": {},
   "outputs": [
    {
     "data": {
      "text/html": [
       "<div>\n",
       "<style scoped>\n",
       "    .dataframe tbody tr th:only-of-type {\n",
       "        vertical-align: middle;\n",
       "    }\n",
       "\n",
       "    .dataframe tbody tr th {\n",
       "        vertical-align: top;\n",
       "    }\n",
       "\n",
       "    .dataframe thead th {\n",
       "        text-align: right;\n",
       "    }\n",
       "</style>\n",
       "<table border=\"1\" class=\"dataframe\">\n",
       "  <thead>\n",
       "    <tr style=\"text-align: right;\">\n",
       "      <th></th>\n",
       "      <th>Died</th>\n",
       "      <th>Survived</th>\n",
       "    </tr>\n",
       "  </thead>\n",
       "  <tbody>\n",
       "    <tr>\n",
       "      <th>Died</th>\n",
       "      <td>91</td>\n",
       "      <td>77</td>\n",
       "    </tr>\n",
       "    <tr>\n",
       "      <th>Survived</th>\n",
       "      <td>14</td>\n",
       "      <td>86</td>\n",
       "    </tr>\n",
       "  </tbody>\n",
       "</table>\n",
       "</div>"
      ],
      "text/plain": [
       "          Died  Survived\n",
       "Died        91        77\n",
       "Survived    14        86"
      ]
     },
     "execution_count": 44,
     "metadata": {},
     "output_type": "execute_result"
    }
   ],
   "source": [
    "df_cm"
   ]
  },
  {
   "cell_type": "code",
   "execution_count": 45,
   "id": "12b3570c-9230-48e3-8ab5-91043c3edaee",
   "metadata": {},
   "outputs": [
    {
     "data": {
      "image/png": "[encoded data removed]",
      "text/plain": [
       "<Figure size 600x600 with 2 Axes>"
      ]
     },
     "metadata": {},
     "output_type": "display_data"
    }
   ],
   "source": [
    "plt.figure(figsize=(6,6))\n",
    "sns.heatmap(df_cm, annot=True, cmap=plt.cm.Blues, fmt='g')\n",
    "plt.xlabel('Predicted Class', fontsize=18)\n",
    "plt.ylabel('True Class', fontsize=18)\n",
    "plt.show()"
   ]
  },
  {
   "cell_type": "code",
   "execution_count": 46,
   "id": "78316354-1775-4cd2-802b-def89cb97e94",
   "metadata": {},
   "outputs": [
    {
     "data": {
      "text/plain": [
       "0.6604477611940298"
      ]
     },
     "execution_count": 46,
     "metadata": {},
     "output_type": "execute_result"
    }
   ],
   "source": [
    "accuracy_score(Y_test, predictions)"
   ]
  },
  {
   "cell_type": "markdown",
   "id": "000f5fd1-1d29-4a08-b8b3-f01442356413",
   "metadata": {},
   "source": [
    "### We can see that the accuracy score is not good in this right now, we can improve the accuracy by adding hidden layers or changing the activation functions."
   ]
  },
  {
   "cell_type": "markdown",
   "id": "f6fcb56f-ddc9-45ae-aa22-85ec764b34cb",
   "metadata": {},
   "source": [
    "-----"
   ]
  }
 ],
 "metadata": {
  "kernelspec": {
   "display_name": "Python 3 (ipykernel)",
   "language": "python",
   "name": "python3"
  },
  "language_info": {
   "codemirror_mode": {
    "name": "ipython",
    "version": 3
   },
   "file_extension": ".py",
   "mimetype": "text/x-python",
   "name": "python",
   "nbconvert_exporter": "python",
   "pygments_lexer": "ipython3",
   "version": "3.11.8"
  }
 },
 "nbformat": 4,
 "nbformat_minor": 5
}
